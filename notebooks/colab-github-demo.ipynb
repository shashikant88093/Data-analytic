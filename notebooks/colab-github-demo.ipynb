{
  "cells": [
    {
      "cell_type": "markdown",
      "metadata": {
        "colab_type": "text",
        "id": "view-in-github"
      },
      "source": [
        "<a href=\"https://colab.research.google.com/github/shashikant88093/Data-analytic/blob/master/notebooks/colab-github-demo.ipynb\" target=\"_parent\"><img src=\"https://colab.research.google.com/assets/colab-badge.svg\" alt=\"Open In Colab\"/></a>"
      ]
    },
    {
      "cell_type": "markdown",
      "metadata": {
        "id": "-pVhOfzLx9us"
      },
      "source": [
        "# Using Google Colab with GitHub\n",
        "\n"
      ]
    },
    {
      "cell_type": "code",
      "execution_count": 1,
      "metadata": {
        "colab": {
          "base_uri": "https://localhost:8080/"
        },
        "id": "wIfqcNlBJ9XK",
        "outputId": "114ee929-1e4f-4668-f943-95de0a6d5a2b"
      },
      "outputs": [
        {
          "data": {
            "text/html": [
              "<div>\n",
              "<style scoped>\n",
              "    .dataframe tbody tr th:only-of-type {\n",
              "        vertical-align: middle;\n",
              "    }\n",
              "\n",
              "    .dataframe tbody tr th {\n",
              "        vertical-align: top;\n",
              "    }\n",
              "\n",
              "    .dataframe thead th {\n",
              "        text-align: right;\n",
              "    }\n",
              "</style>\n",
              "<table border=\"1\" class=\"dataframe\">\n",
              "  <thead>\n",
              "    <tr style=\"text-align: right;\">\n",
              "      <th></th>\n",
              "      <th>month_number</th>\n",
              "      <th>facecream</th>\n",
              "      <th>facewash</th>\n",
              "      <th>toothpaste</th>\n",
              "      <th>bathingsoap</th>\n",
              "      <th>shampoo</th>\n",
              "      <th>moisturizer</th>\n",
              "      <th>total_units</th>\n",
              "      <th>total_profit</th>\n",
              "    </tr>\n",
              "  </thead>\n",
              "  <tbody>\n",
              "    <tr>\n",
              "      <th>0</th>\n",
              "      <td>1</td>\n",
              "      <td>2500</td>\n",
              "      <td>1500</td>\n",
              "      <td>5200</td>\n",
              "      <td>9200</td>\n",
              "      <td>1200</td>\n",
              "      <td>1500</td>\n",
              "      <td>21100</td>\n",
              "      <td>211000</td>\n",
              "    </tr>\n",
              "    <tr>\n",
              "      <th>1</th>\n",
              "      <td>2</td>\n",
              "      <td>2630</td>\n",
              "      <td>1200</td>\n",
              "      <td>5100</td>\n",
              "      <td>6100</td>\n",
              "      <td>2100</td>\n",
              "      <td>1200</td>\n",
              "      <td>18330</td>\n",
              "      <td>183300</td>\n",
              "    </tr>\n",
              "    <tr>\n",
              "      <th>2</th>\n",
              "      <td>3</td>\n",
              "      <td>2140</td>\n",
              "      <td>1340</td>\n",
              "      <td>4550</td>\n",
              "      <td>9550</td>\n",
              "      <td>3550</td>\n",
              "      <td>1340</td>\n",
              "      <td>22470</td>\n",
              "      <td>224700</td>\n",
              "    </tr>\n",
              "    <tr>\n",
              "      <th>3</th>\n",
              "      <td>4</td>\n",
              "      <td>3400</td>\n",
              "      <td>1130</td>\n",
              "      <td>5870</td>\n",
              "      <td>8870</td>\n",
              "      <td>1870</td>\n",
              "      <td>1130</td>\n",
              "      <td>22270</td>\n",
              "      <td>222700</td>\n",
              "    </tr>\n",
              "    <tr>\n",
              "      <th>4</th>\n",
              "      <td>5</td>\n",
              "      <td>3600</td>\n",
              "      <td>1740</td>\n",
              "      <td>4560</td>\n",
              "      <td>7760</td>\n",
              "      <td>1560</td>\n",
              "      <td>1740</td>\n",
              "      <td>20960</td>\n",
              "      <td>209600</td>\n",
              "    </tr>\n",
              "  </tbody>\n",
              "</table>\n",
              "</div>"
            ],
            "text/plain": [
              "   month_number  facecream  facewash  toothpaste  bathingsoap  shampoo  \\\n",
              "0             1       2500      1500        5200         9200     1200   \n",
              "1             2       2630      1200        5100         6100     2100   \n",
              "2             3       2140      1340        4550         9550     3550   \n",
              "3             4       3400      1130        5870         8870     1870   \n",
              "4             5       3600      1740        4560         7760     1560   \n",
              "\n",
              "   moisturizer  total_units  total_profit  \n",
              "0         1500        21100        211000  \n",
              "1         1200        18330        183300  \n",
              "2         1340        22470        224700  \n",
              "3         1130        22270        222700  \n",
              "4         1740        20960        209600  "
            ]
          },
          "execution_count": 1,
          "metadata": {},
          "output_type": "execute_result"
        }
      ],
      "source": [
        "import pandas as pd\n",
        "df = pd.read_csv(\"../data/company-sales.csv\")\n",
        "df.head()"
      ]
    },
    {
      "cell_type": "code",
      "execution_count": 2,
      "metadata": {},
      "outputs": [
        {
          "name": "stdout",
          "output_type": "stream",
          "text": [
            "[['a' 'b']\n",
            " ['d' 'e']\n",
            " ['g' 'h']]\n"
          ]
        }
      ],
      "source": [
        "import numpy as np\n",
        "A = np.array([\n",
        "    ['a', 'b', 'c'],\n",
        "    ['d', 'e', 'f'],\n",
        "    ['g', 'h', 'i']\n",
        "])\n",
        "\n",
        "print(A[:, :2])"
      ]
    },
    {
      "cell_type": "code",
      "execution_count": 5,
      "metadata": {},
      "outputs": [
        {
          "data": {
            "text/plain": [
              "array([20, 21, 22, 23, 24])"
            ]
          },
          "execution_count": 5,
          "metadata": {},
          "output_type": "execute_result"
        }
      ],
      "source": [
        "import numpy as np\n",
        "a = np.arange(5)\n",
        "a + 20"
      ]
    },
    {
      "cell_type": "code",
      "execution_count": 6,
      "metadata": {},
      "outputs": [
        {
          "name": "stdout",
          "output_type": "stream",
          "text": [
            "[ True  True  True  True False]\n"
          ]
        }
      ],
      "source": [
        "import numpy as np\n",
        "a = np.arange(5)\n",
        "\n",
        "print(a <= 3)"
      ]
    }
  ],
  "metadata": {
    "colab": {
      "include_colab_link": true,
      "name": "colab-github-demo.ipynb",
      "provenance": [],
      "toc_visible": true
    },
    "kernelspec": {
      "display_name": "Python 3",
      "name": "python3"
    },
    "language_info": {
      "codemirror_mode": {
        "name": "ipython",
        "version": 3
      },
      "file_extension": ".py",
      "mimetype": "text/x-python",
      "name": "python",
      "nbconvert_exporter": "python",
      "pygments_lexer": "ipython3",
      "version": "3.11.9"
    }
  },
  "nbformat": 4,
  "nbformat_minor": 0
}
