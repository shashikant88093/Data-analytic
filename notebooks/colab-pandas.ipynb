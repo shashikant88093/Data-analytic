{
 "cells": [
  {
   "cell_type": "code",
   "execution_count": 4,
   "id": "9652a4d9",
   "metadata": {},
   "outputs": [
    {
     "name": "stdout",
     "output_type": "stream",
     "text": [
      "Tom      8\n",
      "Kris     2\n",
      "Ahmad    5\n",
      "Beau     6\n",
      "dtype: int64\n"
     ]
    }
   ],
   "source": [
    "import pandas as pd\n",
    "\n",
    "certificates_earned = pd.Series(\n",
    "    [8, 2, 5, 6],\n",
    "    index=['Tom', 'Kris', 'Ahmad', 'Beau']\n",
    ")\n",
    "\n",
    "print(certificates_earned)\n",
    "\n",
    "\n",
    "# certificates_earned = pd.Series(\n",
    "#     [8, 2, 5, 6],\n",
    "#     index=['Tom', 'Kris', 'Ahmad', 'Beau']\n",
    "# )\n",
    "\n",
    "# print(certificates_earned[certificates_earned > 5])"
   ]
  },
  {
   "cell_type": "code",
   "execution_count": 5,
   "id": "fb7a830d",
   "metadata": {},
   "outputs": [
    {
     "name": "stdout",
     "output_type": "stream",
     "text": [
      "Certificates        5\n",
      "Time (in months)    9\n",
      "Name: Ahmad, dtype: int64\n"
     ]
    }
   ],
   "source": [
    "import pandas as pd\n",
    "\n",
    "certificates_earned = pd.DataFrame({\n",
    "    'Certificates': [8, 2, 5, 6],\n",
    "    'Time (in months)': [16, 5, 9, 12]\n",
    "})\n",
    "\n",
    "certificates_earned.index = ['Tom', 'Kris', 'Ahmad', 'Beau']\n",
    "\n",
    "print(certificates_earned.iloc[2])"
   ]
  },
  {
   "cell_type": "code",
   "execution_count": 3,
   "id": "25550174",
   "metadata": {},
   "outputs": [],
   "source": [
    "import pandas as pd\n",
    "\n",
    "# certificates_earned = pd.DataFrame({\n",
    "#     'Certificates': [8, 2, 5, 6],\n",
    "#     'Time (in months)': [16, 5, 9, 12]\n",
    "# })\n",
    "# names = ['Tom', 'Kris', 'Ahmad', 'Beau']\n",
    "\n",
    "# certificates_earned.index = names\n",
    "# longest_streak = pd.Series([13, 11, 9, 7], index=names)\n",
    "# certificates_earned['Longest streak'] = longest_streak\n",
    "\n",
    "# print(certificates_earned)\n",
    "data = {\n",
    "   'Certificates': [8, 2, 5, 6],\n",
    "   'Time (in months)': [16, 5, 9, 12]\n",
    "}\n",
    "\n",
    "# Create DataFrame\n",
    "certificates_earned = pd.DataFrame(data)\n",
    "certificates_earned['Longest streak']= round(\n",
    "     certificates_earned['Certificates'] /\n",
    "    certificates_earned['Time (in months)'], 2\n",
    ")"
   ]
  }
 ],
 "metadata": {
  "kernelspec": {
   "display_name": "Python 3",
   "language": "python",
   "name": "python3"
  },
  "language_info": {
   "codemirror_mode": {
    "name": "ipython",
    "version": 3
   },
   "file_extension": ".py",
   "mimetype": "text/x-python",
   "name": "python",
   "nbconvert_exporter": "python",
   "pygments_lexer": "ipython3",
   "version": "3.11.9"
  }
 },
 "nbformat": 4,
 "nbformat_minor": 5
}
