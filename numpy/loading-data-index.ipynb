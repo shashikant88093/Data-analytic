{
 "cells": [
  {
   "cell_type": "code",
   "execution_count": null,
   "id": "82a94511",
   "metadata": {},
   "outputs": [
    {
     "name": "stdout",
     "output_type": "stream",
     "text": [
      "[[ 29  97  32 100  45]\n",
      " [ 15  88   5  75  22]]\n"
     ]
    }
   ],
   "source": [
    "import numpy as np\n"
   ]
  },
  {
   "cell_type": "code",
   "execution_count": 4,
   "id": "92bc6c3d",
   "metadata": {},
   "outputs": [
    {
     "name": "stdout",
     "output_type": "stream",
     "text": [
      "[[ 29  97  32 100  45]\n",
      " [ 15  88   5  75  22]]\n"
     ]
    }
   ],
   "source": [
    "\n",
    "filedData = np.genfromtxt('../data/data.txt',delimiter=',')\n",
    "filedData = filedData.astype('int32')\n",
    "\n",
    "print(filedData)\n"
   ]
  },
  {
   "cell_type": "code",
   "execution_count": null,
   "id": "8c963c29",
   "metadata": {},
   "outputs": [
    {
     "name": "stdout",
     "output_type": "stream",
     "text": [
      "False\n"
     ]
    }
   ],
   "source": [
    "output = np.any(filedData > 50)\n",
    "\n",
    "print(output)\n"
   ]
  },
  {
   "cell_type": "code",
   "execution_count": null,
   "id": "91d0a0cd",
   "metadata": {},
   "outputs": [
    {
     "name": "stdout",
     "output_type": "stream",
     "text": [
      "[False False]\n"
     ]
    }
   ],
   "source": [
    "filedata = np.genfromtxt('../data/data.txt',delimiter=',')\n",
    "\n",
    "output = np.all(filedata < 50, axis=1)\n",
    "\n",
    "print(output)\n"
   ]
  },
  {
   "cell_type": "code",
   "execution_count": 16,
   "id": "0ff7377e",
   "metadata": {},
   "outputs": [
    {
     "name": "stdout",
     "output_type": "stream",
     "text": [
      "[29. 32. 45. 15.  5. 22.]\n"
     ]
    }
   ],
   "source": [
    "output = filedata[filedata < 50]\n",
    "\n",
    "print(output)"
   ]
  }
 ],
 "metadata": {
  "kernelspec": {
   "display_name": "Python 3",
   "language": "python",
   "name": "python3"
  },
  "language_info": {
   "codemirror_mode": {
    "name": "ipython",
    "version": 3
   },
   "file_extension": ".py",
   "mimetype": "text/x-python",
   "name": "python",
   "nbconvert_exporter": "python",
   "pygments_lexer": "ipython3",
   "version": "3.11.9"
  }
 },
 "nbformat": 4,
 "nbformat_minor": 5
}
