{
 "cells": [
  {
   "cell_type": "markdown",
   "id": "3c30a2ef",
   "metadata": {},
   "source": [
    "# whats is Numpy ?\n",
    "- Numpy is a powerful library in Python that provides support for large, multi-dimensional arrays and matrices, along with a collection of mathematical functions to operate on these arrays. It is widely used in data science, machine learning, and scientific computing due to its efficiency and ease of use.\n",
    "- Numpy stands for Numerical Python and is the fundamental package for numerical computations in Python.\n",
    "\n",
    "# Key Features of Numpy\n",
    "- **N-dimensional arrays**: Numpy provides a powerful N-dimensional array object, which is a fast and flexible container for large data sets in Python.\n",
    "- **Mathematical functions**: It includes a wide range of mathematical functions to perform operations on arrays, such as linear algebra, statistical operations, and Fourier transforms.\n",
    "- **Broadcasting**: Numpy supports broadcasting, which allows operations to be performed on arrays of different shapes and sizes without the need for explicit replication of data.\n",
    "- **Performance**: Numpy is implemented in C, which makes it much faster than Python lists for numerical computations. It also supports vectorized operations, which can significantly speed up calculations.\n",
    "- **Integration**: Numpy integrates well with other libraries in the Python ecosystem, such as Pandas, Matplotlib, and SciPy, making it a versatile tool for data analysis and scientific computing.\n",
    "\n",
    "## what is difference between Numpy and Python List?\n",
    "- **Data Type**: Numpy arrays are homogeneous, meaning all elements must be of the same data type, while Python lists can contain elements of different data types.\n",
    "- **Performance**: Numpy arrays are more memory efficient and faster for numerical operations compared to Python lists, as they are implemented in C and optimized for performance.\n",
    "- **Functionality**: Numpy provides a wide range of mathematical functions and operations that can be applied directly to arrays, while Python lists require manual iteration for similar operations.\n",
    "- **Shape and Dimension**: Numpy arrays can have multiple dimensions (N-dimensional), while Python lists are one-dimensional by default, although they can be nested to create multi-dimensional structures.\n",
    "- used the fixed type of data, while Python lists can store any type of object, including other lists, strings, and custom objects."
   ]
  },
  {
   "cell_type": "markdown",
   "id": "43f1d315",
   "metadata": {},
   "source": [
    "Basic Numpy Operations"
   ]
  },
  {
   "cell_type": "code",
   "execution_count": null,
   "id": "d5b70075",
   "metadata": {},
   "outputs": [],
   "source": [
    "import numpy as np"
   ]
  },
  {
   "cell_type": "code",
   "execution_count": null,
   "id": "b5d2b066",
   "metadata": {
    "vscode": {
     "languageId": "javascript"
    }
   },
   "outputs": [
    {
     "name": "stdout",
     "output_type": "stream",
     "text": [
      "[1 2 3]\n"
     ]
    },
    {
     "data": {
      "text/plain": [
       "dtype('int32')"
      ]
     },
     "execution_count": 19,
     "metadata": {},
     "output_type": "execute_result"
    }
   ],
   "source": [
    "sizeone = np.array([1,2,3],dtype='int32')\n",
    "\n",
    "print(sizeone)\n",
    "sizeone.ndim\n",
    "sizeone.shape\n",
    "sizeone.dtype"
   ]
  },
  {
   "cell_type": "code",
   "execution_count": 16,
   "id": "ce4fe23f",
   "metadata": {},
   "outputs": [
    {
     "name": "stdout",
     "output_type": "stream",
     "text": [
      "[[1 2 3]\n",
      " [4 5 6]]\n"
     ]
    },
    {
     "data": {
      "text/plain": [
       "(2, 3)"
      ]
     },
     "execution_count": 16,
     "metadata": {},
     "output_type": "execute_result"
    }
   ],
   "source": [
    "sizetwo = np.array([[1,2,3],[4,5,6]])\n",
    "\n",
    "print(sizetwo)\n",
    "sizetwo.ndim\n",
    "sizetwo.shape\n"
   ]
  }
 ],
 "metadata": {
  "kernelspec": {
   "display_name": "Python 3",
   "language": "python",
   "name": "python3"
  },
  "language_info": {
   "codemirror_mode": {
    "name": "ipython",
    "version": 3
   },
   "file_extension": ".py",
   "mimetype": "text/x-python",
   "name": "python",
   "nbconvert_exporter": "python",
   "pygments_lexer": "ipython3",
   "version": "3.11.9"
  }
 },
 "nbformat": 4,
 "nbformat_minor": 5
}
