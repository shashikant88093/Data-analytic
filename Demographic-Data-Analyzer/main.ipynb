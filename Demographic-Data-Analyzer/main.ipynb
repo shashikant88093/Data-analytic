{
 "cells": [
  {
   "cell_type": "markdown",
   "id": "903fab5a",
   "metadata": {},
   "source": [
    "|    |   age | workclass        |   fnlwgt | education   |   education-num | marital-status     | occupation        | relationship   | race   | sex    |   capital-gain |   capital-loss |   hours-per-week | native-country   | salary   |\n",
    "|---:|------:|:-----------------|---------:|:------------|----------------:|:-------------------|:------------------|:---------------|:-------|:-------|---------------:|---------------:|-----------------:|:-----------------|:---------|\n",
    "|  0 |    39 | State-gov        |    77516 | Bachelors   |              13 | Never-married      | Adm-clerical      | Not-in-family  | White  | Male   |           2174 |              0 |               40 | United-States    | <=50K    |\n",
    "|  1 |    50 | Self-emp-not-inc |    83311 | Bachelors   |              13 | Married-civ-spouse | Exec-managerial   | Husband        | White  | Male   |              0 |              0 |               13 | United-States    | <=50K    |\n",
    "|  2 |    38 | Private          |   215646 | HS-grad     |               9 | Divorced           | Handlers-cleaners | Not-in-family  | White  | Male   |              0 |              0 |               40 | United-States    | <=50K    |\n",
    "|  3 |    53 | Private          |   234721 | 11th        |               7 | Married-civ-spouse | Handlers-cleaners | Husband        | Black  | Male   |              0 |              0 |               40 | United-States    | <=50K    |\n",
    "|  4 |    28 | Private          |   338409 | Bachelors   |              13 | Married-civ-spouse | Prof-specialty    | Wife           | Black  | Female |              0 |              0 |               40 | Cuba             | <=50K    |"
   ]
  },
  {
   "cell_type": "code",
   "execution_count": null,
   "id": "f4d5ccae",
   "metadata": {},
   "outputs": [
    {
     "data": {
      "text/plain": [
       "'../data/demographic.csv'"
      ]
     },
     "execution_count": 10,
     "metadata": {},
     "output_type": "execute_result"
    }
   ],
   "source": [
    "import pandas as pd\n",
    "data = [\n",
    "    [39, 'State-gov', 77516, 'Bachelors', 13, 'Never-married', 'Adm-clerical', 'Not-in-family', 'White', 'Male', 2174, 0, 40, 'United-States', '<=50K'],\n",
    "    [50, 'Self-emp-not-inc', 83311, 'Bachelors', 13, 'Married-civ-spouse', 'Exec-managerial', 'Husband', 'White', 'Male', 0, 0, 13, 'United-States', '<=50K'],\n",
    "    [38, 'Private', 215646, 'HS-grad', 9, 'Divorced', 'Handlers-cleaners', 'Not-in-family', 'White', 'Male', 0, 0, 40, 'United-States', '<=50K'],\n",
    "    [53, 'Private', 234721, '11th', 7, 'Married-civ-spouse', 'Handlers-cleaners', 'Husband', 'Black', 'Male', 0, 0, 40, 'United-States', '<=50K'],\n",
    "    [28, 'Private', 338409, 'Bachelors', 13, 'Married-civ-spouse', 'Prof-specialty', 'Wife', 'Black', 'Female', 0, 0, 40, 'Cuba', '<=50K'],\n",
    "]\n",
    "\n",
    "# Define the column names\n",
    "columns = [\n",
    "    'age', 'workclass', 'fnlwgt', 'education', 'education-num',\n",
    "    'marital-status', 'occupation', 'relationship', 'race', 'sex',\n",
    "    'capital-gain', 'capital-loss', 'hours-per-week', 'native-country', 'salary'\n",
    "]\n",
    "\n",
    "\n",
    "df = pd.DataFrame(data, columns=columns)\n",
    "\n",
    "# Save to CSV file\n",
    "file_path = \"../data/demographic.csv\"\n",
    "df.to_csv(file_path, index=False)\n",
    "\n",
    "file_path"
   ]
  },
  {
   "cell_type": "code",
   "execution_count": 36,
   "id": "cc55cc1c",
   "metadata": {},
   "outputs": [
    {
     "name": "stdout",
     "output_type": "stream",
     "text": [
      "race\n",
      "White    3\n",
      "Black    2\n",
      "Name: count, dtype: int64\n"
     ]
    }
   ],
   "source": [
    "import pandas as pd\n",
    "\n",
    "data  = pd.read_csv(\"../data/demographic.csv\")\n",
    "df = pd.DataFrame(data)\n",
    "\n",
    "race_counts = df['race'].value_counts()\n",
    "print(race_counts)"
   ]
  },
  {
   "cell_type": "code",
   "execution_count": null,
   "id": "f77c0385",
   "metadata": {},
   "outputs": [],
   "source": []
  },
  {
   "cell_type": "code",
   "execution_count": 20,
   "id": "77d605c8",
   "metadata": {},
   "outputs": [
    {
     "name": "stdout",
     "output_type": "stream",
     "text": [
      "41.6\n"
     ]
    }
   ],
   "source": [
    "import pandas as pd\n",
    "data  = pd.read_csv(\"../data/demographic.csv\")\n",
    "sums = data[\"age\"].mean()\n",
    "\n",
    "print(sums)\n"
   ]
  },
  {
   "cell_type": "code",
   "execution_count": null,
   "id": "bd79c16d",
   "metadata": {},
   "outputs": [
    {
     "name": "stdout",
     "output_type": "stream",
     "text": [
      "Empty DataFrame\n",
      "Columns: [age, workclass, fnlwgt, education, education-num, marital-status, occupation, relationship, race, sex, capital-gain, capital-loss, hours-per-week, native-country, salary]\n",
      "Index: [] salary\n",
      "Percentage of Bachelors: 60.00%\n",
      "Percentage of HS-grad: 20.00%\n"
     ]
    }
   ],
   "source": [
    "\n",
    "# Total number of rows\n",
    "totalCount = len(df)\n",
    "\n",
    "# Count of people with Bachelors and HS-grad education\n",
    "bachelors_only = len(df[df['education'] == 'Bachelors'])\n",
    "hs_grad = len(df[df['education'] == 'HS-grad'])\n",
    "\n",
    "# Filter for salary more than 50K (NOTE: '<=50K' is *less than or equal*, not greater)\n",
    "salary_more_than_50k = df[df['salary'] == '>50K']  # Assuming salary column contains strings like '>50K', '<=50K'\n",
    "\n",
    "# Print rows with salary >50K\n",
    "print(salary_more_than_50k, \"salary\")\n",
    "\n",
    "# Calculate percentage\n",
    "percentage_for_bachelors = (bachelors_only * 100) / totalCount\n",
    "percentage_for_hs_grad = (hs_grad * 100) / totalCount\n",
    "\n",
    "# Print percentages\n",
    "print(f\"Percentage of Bachelors: {percentage_for_bachelors:.2f}%\")\n",
    "print(f\"Percentage of HS-grad: {percentage_for_hs_grad:.2f}%\")\n"
   ]
  },
  {
   "cell_type": "code",
   "execution_count": 37,
   "id": "ff4ceef4",
   "metadata": {},
   "outputs": [
    {
     "name": "stdout",
     "output_type": "stream",
     "text": [
      "Average age of men: 45.00\n"
     ]
    }
   ],
   "source": [
    "# what is average age of men?\n",
    "average_age_men = df[df['sex'] == 'Male']['age'].mean()\n",
    "print(f\"Average age of men: {average_age_men:.2f}\")"
   ]
  },
  {
   "cell_type": "code",
   "execution_count": 38,
   "id": "b56b7113",
   "metadata": {},
   "outputs": [
    {
     "name": "stdout",
     "output_type": "stream",
     "text": [
      "Percentage with Bachelors: 60.00%\n"
     ]
    }
   ],
   "source": [
    "# What is the percentage of people who have a Bachelor's degree?\n",
    "\n",
    "bachelors_count = len(df[df['education'] == 'Bachelors'])\n",
    "total_count = len(df)\n",
    "bachelors_percentage = (bachelors_count / total_count) * 100\n",
    "print(f\"Percentage with Bachelors: {bachelors_percentage:.2f}%\")\n"
   ]
  },
  {
   "cell_type": "code",
   "execution_count": 39,
   "id": "f8653794",
   "metadata": {},
   "outputs": [
    {
     "name": "stdout",
     "output_type": "stream",
     "text": [
      "Advanced education >50K: 0.00%\n"
     ]
    }
   ],
   "source": [
    "#  What percentage of people with advanced education (Bachelors, Masters, Doctorate) make more than 50K?\n",
    "\n",
    "advanced_edu = df[df['education'].isin(['Bachelors', 'Masters', 'Doctorate'])]\n",
    "high_edu_rich = advanced_edu[advanced_edu['salary'] == '>50K']\n",
    "advanced_edu_percentage = (len(high_edu_rich) / len(advanced_edu)) * 100\n",
    "print(f\"Advanced education >50K: {advanced_edu_percentage:.2f}%\")\n"
   ]
  },
  {
   "cell_type": "code",
   "execution_count": 40,
   "id": "e48725b3",
   "metadata": {},
   "outputs": [
    {
     "name": "stdout",
     "output_type": "stream",
     "text": [
      "Non-advanced education >50K: 0.00%\n"
     ]
    }
   ],
   "source": [
    "# What percentage of people without advanced education make more than 50K?\n",
    "\n",
    "non_advanced_edu = df[~df['education'].isin(['Bachelors', 'Masters', 'Doctorate'])]\n",
    "non_edu_rich = non_advanced_edu[non_advanced_edu['salary'] == '>50K']\n",
    "non_edu_percentage = (len(non_edu_rich) / len(non_advanced_edu)) * 100\n",
    "print(f\"Non-advanced education >50K: {non_edu_percentage:.2f}%\")\n"
   ]
  },
  {
   "cell_type": "code",
   "execution_count": 41,
   "id": "81d63d1c",
   "metadata": {},
   "outputs": [
    {
     "name": "stdout",
     "output_type": "stream",
     "text": [
      "Minimum hours per week: 13\n"
     ]
    }
   ],
   "source": [
    "#  What is the minimum number of hours a person works per week?\n",
    "\n",
    "min_hours = df['hours-per-week'].min()\n",
    "print(f\"Minimum hours per week: {min_hours}\")\n"
   ]
  },
  {
   "cell_type": "code",
   "execution_count": 42,
   "id": "7a18f671",
   "metadata": {},
   "outputs": [
    {
     "name": "stdout",
     "output_type": "stream",
     "text": [
      "Rich among min hour workers: 0.00%\n"
     ]
    }
   ],
   "source": [
    "#  What percentage of the people who work the minimum number of hours per week have a salary of more than 50K?\n",
    "min_hour_workers = df[df['hours-per-week'] == min_hours]\n",
    "rich_min_hour_workers = min_hour_workers[min_hour_workers['salary'] == '>50K']\n",
    "rich_min_hour_percentage = (len(rich_min_hour_workers) / len(min_hour_workers)) * 100\n",
    "print(f\"Rich among min hour workers: {rich_min_hour_percentage:.2f}%\")\n"
   ]
  },
  {
   "cell_type": "code",
   "execution_count": 45,
   "id": "82c76d4e",
   "metadata": {},
   "outputs": [
    {
     "name": "stdout",
     "output_type": "stream",
     "text": [
      "No country has people earning >50K in the dataset.\n"
     ]
    }
   ],
   "source": [
    "#  What country has the highest percentage of people that earn >50K and what is that percentage?\n",
    "# Group by native-country and compute total and rich counts\n",
    "total_per_country = df['native-country'].value_counts()\n",
    "rich_per_country = df[df['salary'] == '>50K']['native-country'].value_counts()\n",
    "\n",
    "# Filter to countries present in both (intersection of indexes)\n",
    "common_countries = total_per_country.index.intersection(rich_per_country.index)\n",
    "\n",
    "# Calculate percentage only for common countries\n",
    "rich_percentage_by_country = (rich_per_country[common_countries] / total_per_country[common_countries]) * 100\n",
    "\n",
    "# Proceed only if the result is not empty\n",
    "if not rich_percentage_by_country.empty:\n",
    "    highest_country = rich_percentage_by_country.idxmax()\n",
    "    highest_value = rich_percentage_by_country.max()\n",
    "    print(f\"Country with highest % of >50K earners: {highest_country} ({highest_value:.2f}%)\")\n",
    "else:\n",
    "    print(\"No country has people earning >50K in the dataset.\")\n"
   ]
  },
  {
   "cell_type": "code",
   "execution_count": 46,
   "id": "e9cd0af8",
   "metadata": {},
   "outputs": [
    {
     "name": "stdout",
     "output_type": "stream",
     "text": [
      "No people from India earn >50K in this dataset.\n"
     ]
    }
   ],
   "source": [
    "# Identify the most popular occupation for those who earn >50K in India ?\n",
    "\n",
    "india_rich = df[(df['native-country'] == 'India') & (df['salary'] == '>50K')]\n",
    "\n",
    "if not india_rich.empty:\n",
    "    top_job = india_rich['occupation'].value_counts().idxmax()\n",
    "    print(f\"Top occupation in India for >50K earners: {top_job}\")\n",
    "else:\n",
    "    print(\"No people from India earn >50K in this dataset.\")\n"
   ]
  }
 ],
 "metadata": {
  "kernelspec": {
   "display_name": "Python 3",
   "language": "python",
   "name": "python3"
  },
  "language_info": {
   "codemirror_mode": {
    "name": "ipython",
    "version": 3
   },
   "file_extension": ".py",
   "mimetype": "text/x-python",
   "name": "python",
   "nbconvert_exporter": "python",
   "pygments_lexer": "ipython3",
   "version": "3.11.9"
  }
 },
 "nbformat": 4,
 "nbformat_minor": 5
}
